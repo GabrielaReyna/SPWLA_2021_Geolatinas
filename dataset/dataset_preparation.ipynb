{
 "cells": [
  {
   "cell_type": "markdown",
   "id": "f1fcd795",
   "metadata": {},
   "source": [
    "Codigo para preparar Training Dataset Para outliers detection y entrenamiento. \n",
    "El tratamiento incluye:\n",
    "- Descartar logs que no necesitamos:\n",
    "  - BS, CALI, DENC, ROP\n",
    "- Convertir los valores -9999 to NAN\n",
    "- Descartar Rows que no tienen datos de salida (SW, PHIF, VSH)\n",
    "- Convertir los valores de resistividad (RMED y RDEP) to log10\n",
    "\n",
    "Nota: En este paso no normalizamos, ya que es mas sencillo manejar outliers sin normalizar. Para el proceso de entrenamiento de la red y predicciones, los datos deben ser normalizados"
   ]
  },
  {
   "cell_type": "code",
   "execution_count": 1,
   "id": "b3854409",
   "metadata": {},
   "outputs": [],
   "source": [
    "import matplotlib.pyplot as plt\n",
    "import pandas as pd\n",
    "import seaborn as sns\n",
    "import tensorflow as tf\n",
    "from tensorflow import keras\n",
    "from tensorflow.keras import layers\n",
    "import numpy as np\n",
    "import os\n",
    "#from sklearn.preprocessing import StandardScaler"
   ]
  },
  {
   "cell_type": "code",
   "execution_count": 2,
   "id": "e36decc0",
   "metadata": {},
   "outputs": [
    {
     "name": "stdout",
     "output_type": "stream",
     "text": [
      "   WELLNUM       DEPTH     DTC     DTS      BS    CALI     DEN    DENC  \\\n",
      "0        0  335.160105 -9999.0 -9999.0 -9999.0 -9999.0 -9999.0 -9999.0   \n",
      "1        0  335.660105 -9999.0 -9999.0 -9999.0 -9999.0 -9999.0 -9999.0   \n",
      "2        0  336.160105 -9999.0 -9999.0 -9999.0 -9999.0 -9999.0 -9999.0   \n",
      "3        0  336.660105 -9999.0 -9999.0 -9999.0 -9999.0 -9999.0 -9999.0   \n",
      "4        0  337.160105 -9999.0 -9999.0 -9999.0 -9999.0 -9999.0 -9999.0   \n",
      "\n",
      "       GR     NEU     PEF    RDEP    RMED     ROP    PHIF      SW     VSH  \n",
      "0  5.3274 -9999.0 -9999.0 -9999.0 -9999.0 -9999.0 -9999.0 -9999.0 -9999.0  \n",
      "1  5.8235 -9999.0 -9999.0 -9999.0 -9999.0 -9999.0 -9999.0 -9999.0 -9999.0  \n",
      "2  6.5228 -9999.0 -9999.0 -9999.0 -9999.0 -9999.0 -9999.0 -9999.0 -9999.0  \n",
      "3  7.2285 -9999.0 -9999.0 -9999.0 -9999.0 -9999.0 -9999.0 -9999.0 -9999.0  \n",
      "4  9.5020 -9999.0 -9999.0 -9999.0 -9999.0 -9999.0 -9999.0 -9999.0 -9999.0  \n",
      "   WELLNUM       DEPTH     DTC     DTS     DEN      GR     NEU     PEF  \\\n",
      "0        0  335.160105 -9999.0 -9999.0 -9999.0  5.3274 -9999.0 -9999.0   \n",
      "1        0  335.660105 -9999.0 -9999.0 -9999.0  5.8235 -9999.0 -9999.0   \n",
      "2        0  336.160105 -9999.0 -9999.0 -9999.0  6.5228 -9999.0 -9999.0   \n",
      "3        0  336.660105 -9999.0 -9999.0 -9999.0  7.2285 -9999.0 -9999.0   \n",
      "4        0  337.160105 -9999.0 -9999.0 -9999.0  9.5020 -9999.0 -9999.0   \n",
      "\n",
      "     RDEP    RMED    PHIF      SW     VSH  \n",
      "0 -9999.0 -9999.0 -9999.0 -9999.0 -9999.0  \n",
      "1 -9999.0 -9999.0 -9999.0 -9999.0 -9999.0  \n",
      "2 -9999.0 -9999.0 -9999.0 -9999.0 -9999.0  \n",
      "3 -9999.0 -9999.0 -9999.0 -9999.0 -9999.0  \n",
      "4 -9999.0 -9999.0 -9999.0 -9999.0 -9999.0  \n",
      "   WELLNUM       DEPTH  DTC  DTS  DEN      GR  NEU  PEF  RDEP  RMED  PHIF  SW  \\\n",
      "0        0  335.160105  NaN  NaN  NaN  5.3274  NaN  NaN   NaN   NaN   NaN NaN   \n",
      "1        0  335.660105  NaN  NaN  NaN  5.8235  NaN  NaN   NaN   NaN   NaN NaN   \n",
      "2        0  336.160105  NaN  NaN  NaN  6.5228  NaN  NaN   NaN   NaN   NaN NaN   \n",
      "3        0  336.660105  NaN  NaN  NaN  7.2285  NaN  NaN   NaN   NaN   NaN NaN   \n",
      "4        0  337.160105  NaN  NaN  NaN  9.5020  NaN  NaN   NaN   NaN   NaN NaN   \n",
      "\n",
      "   VSH  \n",
      "0  NaN  \n",
      "1  NaN  \n",
      "2  NaN  \n",
      "3  NaN  \n",
      "4  NaN  \n",
      "shape before dropna on targets: (318967, 13)\n",
      "       WELLNUM         DEPTH       DTC  DTS     DEN        GR       NEU  PEF  \\\n",
      "27573        0  14121.660105   89.6461  NaN  2.5777   88.8573  0.277790  NaN   \n",
      "27574        0  14122.160105   96.0152  NaN  2.4748  120.8949  0.294806  NaN   \n",
      "27575        0  14122.660105  104.0457  NaN  2.3338  153.5195  0.447361  NaN   \n",
      "27576        0  14123.160105  113.5010  NaN  2.2358  182.8531  0.579637  NaN   \n",
      "27577        0  14123.660105  117.7817  NaN  2.2278  256.1960  0.556317  NaN   \n",
      "\n",
      "         RDEP    RMED  PHIF   SW       VSH  \n",
      "27573  2.6310  2.4927   0.0  1.0  0.751631  \n",
      "27574  2.4760  2.4685   0.0  1.0  1.032475  \n",
      "27575  2.4359  2.3742   0.0  1.0  1.312757  \n",
      "27576  2.4065  2.4142   0.0  1.0  1.682292  \n",
      "27577  2.3365  2.4077   0.0  1.0  1.924398  \n",
      "Shape after dropna on targets: (42309, 13)\n"
     ]
    }
   ],
   "source": [
    "#Load dataset file\n",
    "train_path = r\"/Users/astromeria/Documents/SPWLA_competition/data/train.csv\"\n",
    "train_data = pd.read_csv(train_path)\n",
    "logs_discarded = [\"BS\", \"CALI\", \"DENC\", \"ROP\"]\n",
    "targets = ['PHIF', 'VSH', 'SW']\n",
    "print(train_data.head())\n",
    "#drop irrelevant columns\n",
    "train_data = train_data.drop(columns=logs_discarded)\n",
    "print(train_data.head())\n",
    "\n",
    "#convert -9999 values to NaN\n",
    "train_data = train_data.mask(train_data == -9999.0, np.nan)\n",
    "print(train_data.head())\n",
    "\n",
    "\n",
    "\n",
    "#drop roww if nan in the target columns\n",
    "print(\"shape before dropna on targets:\", train_data.shape)\n",
    "train_data = train_data.dropna(subset=targets)\n",
    "print(train_data.head())\n",
    "print(\"Shape after dropna on targets:\", train_data.shape)\n",
    "\n"
   ]
  },
  {
   "cell_type": "code",
   "execution_count": 3,
   "id": "4ee9279a",
   "metadata": {},
   "outputs": [
    {
     "name": "stdout",
     "output_type": "stream",
     "text": [
      "0.1295\n",
      "0.1394\n"
     ]
    }
   ],
   "source": [
    "\n",
    "\n",
    "#Replace negative values of resistivity to zero\n",
    "print(np.min(train_data.RDEP))\n",
    "print(np.min(train_data.RMED))\n",
    "\n",
    "#train_data.RDEP = np.where(train_data.RDEP < 0, 0, train_data.RDEP)\n",
    "#train_data.RMED = np.where(train_data.RMED < 0, 0, train_data.RMED)\n",
    "\n",
    "#print(np.min(train_data.RDEP))\n",
    "#print(np.min(train_data.RMED))\n",
    "\n",
    "#convert resistivity to log\n",
    "train_data[\"RDEP\"] = np.log10(train_data['RDEP'])\n",
    "train_data[\"RMED\"] = np.log10(train_data['RMED'])\n",
    "\n",
    "\n",
    "\n",
    "#train_data.to_csv(\"train_dataset_clean.csv\", index = False)\n",
    "\n",
    "\n"
   ]
  },
  {
   "cell_type": "code",
   "execution_count": null,
   "id": "ad07c2b5",
   "metadata": {},
   "outputs": [],
   "source": []
  },
  {
   "cell_type": "code",
   "execution_count": null,
   "id": "eee83ae1",
   "metadata": {},
   "outputs": [],
   "source": []
  }
 ],
 "metadata": {
  "kernelspec": {
   "display_name": "Python 3 (ipykernel)",
   "language": "python",
   "name": "python3"
  },
  "language_info": {
   "codemirror_mode": {
    "name": "ipython",
    "version": 3
   },
   "file_extension": ".py",
   "mimetype": "text/x-python",
   "name": "python",
   "nbconvert_exporter": "python",
   "pygments_lexer": "ipython3",
   "version": "3.8.12"
  }
 },
 "nbformat": 4,
 "nbformat_minor": 5
}
