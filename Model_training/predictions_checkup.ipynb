{
 "cells": [
  {
   "cell_type": "code",
   "execution_count": 1,
   "id": "22983e31",
   "metadata": {},
   "outputs": [],
   "source": [
    "import matplotlib.pyplot as plt\n",
    "import pandas as pd\n",
    "import numpy as np\n"
   ]
  },
  {
   "cell_type": "code",
   "execution_count": 2,
   "id": "a47bd9f1",
   "metadata": {},
   "outputs": [
    {
     "name": "stdout",
     "output_type": "stream",
     "text": [
      "               PHIF            SW           VSH\n",
      "count  11275.000000  11275.000000  11275.000000\n",
      "mean       0.133792      0.719750      0.446901\n",
      "std        0.077133      0.353533      0.352727\n",
      "min       -0.703010     -0.102615     -0.267876\n",
      "25%        0.070656      0.297431      0.168653\n",
      "50%        0.119759      0.932961      0.347879\n",
      "75%        0.213921      0.997957      0.706981\n",
      "max        0.404191      2.104151      7.571922\n"
     ]
    }
   ],
   "source": [
    "#Load Dataset\n",
    "pred_path = r\"./predictions/predictions_model1_datav2.csv\"\n",
    "pred_data = pd.read_csv(pred_path)\n",
    "print(pred_data.describe())\n",
    "\n"
   ]
  },
  {
   "cell_type": "code",
   "execution_count": 4,
   "id": "95765b04",
   "metadata": {},
   "outputs": [
    {
     "name": "stdout",
     "output_type": "stream",
     "text": [
      "               PHIF            SW           VSH\n",
      "count  11275.000000  11275.000000  11275.000000\n",
      "mean       0.134525      0.716719      0.447132\n",
      "std        0.074628      0.349920      0.352388\n",
      "min        0.000000      0.000000      0.000000\n",
      "25%        0.070656      0.297431      0.168653\n",
      "50%        0.119759      0.932961      0.347879\n",
      "75%        0.213921      0.997957      0.706981\n",
      "max        0.404191      1.000000      7.571922\n"
     ]
    }
   ],
   "source": [
    "\n",
    "pred_data.loc[pred_data[\"SW\"] < 0, \"SW\"] = 0\n",
    "pred_data.loc[pred_data[\"SW\"] > 1, \"SW\"] = 1\n",
    "pred_data.loc[pred_data[\"PHIF\"] < 0, \"PHIF\"] = 0\n",
    "pred_data.loc[pred_data[\"PHIF\"] > 1, \"PHIF\"] = 1\n",
    "pred_data.loc[pred_data[\"VSH\"] < 0, \"VSH\"] = 0\n",
    "print(pred_data.describe())"
   ]
  },
  {
   "cell_type": "code",
   "execution_count": 5,
   "id": "71e39f86",
   "metadata": {},
   "outputs": [],
   "source": [
    "pred_data.to_csv(\"predictions/predictions_model1_datav5.csv\", index=False)"
   ]
  },
  {
   "cell_type": "code",
   "execution_count": 6,
   "id": "fabe4758",
   "metadata": {},
   "outputs": [
    {
     "name": "stdout",
     "output_type": "stream",
     "text": [
      "               PHIF            SW           VSH\n",
      "count  11275.000000  11275.000000  11275.000000\n",
      "mean       0.134525      0.716719      0.447132\n",
      "std        0.074628      0.349920      0.352388\n",
      "min        0.000000      0.000000      0.000000\n",
      "25%        0.070656      0.297431      0.168653\n",
      "50%        0.119759      0.932961      0.347879\n",
      "75%        0.213921      0.997957      0.706981\n",
      "max        0.404191      1.000000      7.571922\n"
     ]
    }
   ],
   "source": [
    "print(pred_data.describe())"
   ]
  },
  {
   "cell_type": "code",
   "execution_count": null,
   "id": "d0f39324",
   "metadata": {},
   "outputs": [],
   "source": []
  }
 ],
 "metadata": {
  "kernelspec": {
   "display_name": "Python 3 (ipykernel)",
   "language": "python",
   "name": "python3"
  },
  "language_info": {
   "codemirror_mode": {
    "name": "ipython",
    "version": 3
   },
   "file_extension": ".py",
   "mimetype": "text/x-python",
   "name": "python",
   "nbconvert_exporter": "python",
   "pygments_lexer": "ipython3",
   "version": "3.8.12"
  }
 },
 "nbformat": 4,
 "nbformat_minor": 5
}
