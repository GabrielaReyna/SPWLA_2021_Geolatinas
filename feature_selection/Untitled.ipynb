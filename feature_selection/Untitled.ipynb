{
 "cells": [
  {
   "cell_type": "code",
   "execution_count": 1,
   "id": "d87b1c65",
   "metadata": {},
   "outputs": [],
   "source": [
    "import matplotlib.pyplot as plt\n",
    "import pandas as pd\n",
    "import tensorflow as tf\n",
    "from tensorflow import keras\n",
    "from tensorflow.keras import layers\n",
    "import numpy as np\n",
    "import os\n",
    "import shap\n",
    "from sklearn.preprocessing import StandardScaler\n",
    "from sklearn.neural_network import MLPRegressor\n",
    "from sklearn.pipeline import make_pipeline\n",
    "\n",
    "from sklearn.datasets import load_diabetes\n",
    "from sklearn.model_selection import train_test_split"
   ]
  },
  {
   "cell_type": "code",
   "execution_count": 2,
   "id": "48a1fca5",
   "metadata": {},
   "outputs": [
    {
     "name": "stdout",
     "output_type": "stream",
     "text": [
      "       WELLNUM         DEPTH       DTC  DTS       DEN        GR       NEU  \\\n",
      "0            0  14121.660105  1.050557  NaN  1.037379  1.972747  1.440322   \n",
      "1            0  14122.160105  1.567834  NaN  0.396783  3.263401  1.695148   \n",
      "2            0  14122.660105  2.220044  NaN -0.481001  4.577702  3.979759   \n",
      "3            0  14123.160105  2.987972  NaN -1.091091  5.759423  5.960678   \n",
      "4            0  14123.660105  3.335636  NaN -1.140895  8.714084  5.611446   \n",
      "...        ...           ...       ...  ...       ...       ...       ...   \n",
      "42304        8  12142.500000 -0.985542  NaN  1.257261 -0.280881 -1.082402   \n",
      "42305        8  12143.000000 -0.853113  NaN  1.265428 -0.448097 -1.231667   \n",
      "42306        8  12143.500000 -0.753608  NaN  1.303696 -0.571419 -1.255538   \n",
      "42307        8  12144.000000 -0.824041  NaN  1.322098 -0.682680 -1.382517   \n",
      "42308        8  12144.500000 -0.795052  NaN  1.285250 -0.708376 -1.343860   \n",
      "\n",
      "            PEF      RDEP      RMED      PHIF   SW       VSH  \n",
      "0           NaN -0.282287 -0.372234  0.000000  1.0  0.751631  \n",
      "1           NaN -0.323167 -0.377254  0.000000  1.0  1.032475  \n",
      "2           NaN -0.334160 -0.397298  0.000000  1.0  1.312757  \n",
      "3           NaN -0.342335 -0.388700  0.000000  1.0  1.682292  \n",
      "4           NaN -0.362209 -0.390088  0.000000  1.0  1.924398  \n",
      "...         ...       ...       ...       ...  ...       ...  \n",
      "42304  0.012799  0.013268 -0.176462  0.028313  1.0  0.273600  \n",
      "42305  0.026095  0.019669 -0.137120  0.027530  1.0  0.234400  \n",
      "42306  0.087533  0.102898 -0.098254  0.023795  1.0  0.205400  \n",
      "42307  0.093647  0.123991 -0.083091  0.022048  1.0  0.179300  \n",
      "42308  0.161963  0.128768 -0.070334  0.025602  1.0  0.173300  \n",
      "\n",
      "[42309 rows x 13 columns]\n",
      "42309\n",
      "1500\n",
      "            DTC       DTS       DEN        GR       NEU       PEF      RDEP  \\\n",
      "18509  0.359452 -0.610672 -0.816551 -0.782210 -0.840320 -0.125378  0.627264   \n",
      "33530  0.213213  0.495504  0.672569 -0.040662  0.231937  1.183528 -0.841758   \n",
      "5156  -0.409361 -0.294008  0.328926  0.206579 -0.702544 -2.989875 -0.455257   \n",
      "18211  1.191127  0.951673 -0.949152  0.082794  0.595845  0.481947 -0.501933   \n",
      "33904 -0.443626 -0.571940  0.863067  0.781974 -0.555783  0.800562 -0.847065   \n",
      "...         ...       ...       ...       ...       ...       ...       ...   \n",
      "33562 -0.911710  0.994212  3.691274  0.006517  2.195245  3.382351 -0.670898   \n",
      "33418  0.726917  0.994074  0.728598  1.117843  1.358106  1.271197 -0.727889   \n",
      "8852  -0.030420  0.247995  0.353205  0.142025 -0.001683  0.375743 -0.862093   \n",
      "7974  -0.613223 -0.770532  0.941507  0.856708 -1.052974  0.595497 -0.449361   \n",
      "34728 -0.594226 -1.372021  0.826337 -0.751827 -1.845186  0.295127 -0.104687   \n",
      "\n",
      "           RMED  \n",
      "18509  0.388539  \n",
      "33530 -0.778266  \n",
      "5156  -0.337627  \n",
      "18211 -0.469624  \n",
      "33904 -0.658588  \n",
      "...         ...  \n",
      "33562 -0.494670  \n",
      "33418 -0.680588  \n",
      "8852  -0.840401  \n",
      "7974  -0.443103  \n",
      "34728 -0.161735  \n",
      "\n",
      "[1500 rows x 8 columns]\n",
      "         PHIF     VSH      SW\n",
      "18509  0.1850  0.0940  0.2640\n",
      "33530  0.0850  0.3010  1.0000\n",
      "5156   0.1063  0.2858  0.7996\n",
      "18211  0.2340  0.2440  0.4510\n",
      "33904  0.0570  0.3070  1.0000\n",
      "...       ...     ...     ...\n",
      "33562  0.0200  0.3110  1.0000\n",
      "33418  0.0790  0.5490  1.0000\n",
      "8852   0.1041  0.2649  1.0000\n",
      "7974   0.0501  0.3873  1.0000\n",
      "34728  0.0610  0.1710  1.0000\n",
      "\n",
      "[1500 rows x 3 columns]\n"
     ]
    }
   ],
   "source": [
    "#Load Dataset\n",
    "train_path = r\"/Users/astromeria/PycharmProjects/SPWLA_2021_Geolatinas/dataset/train_dataset_clean.csv\"\n",
    "train_data = pd.read_csv(train_path)\n",
    "print(train_data)\n",
    "\n",
    "discarded =  [\"WELLNUM\", \"DEPTH\"]\n",
    "targets = ['PHIF', 'VSH', 'SW']\n",
    "features = [\"DTC\",  \"DTS\",       \"DEN\",        \"GR\",       \"NEU\", \"PEF\",      \"RDEP\",      \"RMED\"]\n",
    "train_data = train_data.drop(columns=discarded)\n",
    "print(len(train_data))\n",
    "train_data = train_data.dropna()\n",
    "train_data = train_data.sample(n=1500,replace=False)\n",
    "print(len(train_data))\n",
    "\n",
    "#separate in x (inputs) and y(targets or outputs)\n",
    "x_train = train_data.loc[:, ~train_data.columns.isin(targets)]\n",
    "y_train = train_data.loc[:, targets]\n",
    "\n",
    "print(x_train)\n",
    "print(y_train)\n",
    "\n",
    "x_train, x_test, y_train, y_test = train_test_split(x_train, y_train, test_size=0.33, random_state=42)\n"
   ]
  },
  {
   "cell_type": "code",
   "execution_count": 3,
   "id": "26c5f7b5",
   "metadata": {},
   "outputs": [
    {
     "name": "stdout",
     "output_type": "stream",
     "text": [
      "Epoch 1/50\n"
     ]
    },
    {
     "name": "stderr",
     "output_type": "stream",
     "text": [
      "2022-01-19 01:47:02.855111: I tensorflow/core/platform/cpu_feature_guard.cc:142] This TensorFlow binary is optimized with oneAPI Deep Neural Network Library (oneDNN) to use the following CPU instructions in performance-critical operations:  SSE4.1 SSE4.2\n",
      "To enable them in other operations, rebuild TensorFlow with the appropriate compiler flags.\n",
      "2022-01-19 01:47:02.897280: I tensorflow/compiler/mlir/mlir_graph_optimization_pass.cc:116] None of the MLIR optimization passes are enabled (registered 2)\n"
     ]
    },
    {
     "name": "stdout",
     "output_type": "stream",
     "text": [
      "29/29 - 1s - loss: 0.0470 - mae: 0.1371 - mse: 0.0470 - val_loss: 0.0152 - val_mae: 0.0854 - val_mse: 0.0152\n",
      "Epoch 2/50\n",
      "29/29 - 0s - loss: 0.0079 - mae: 0.0614 - mse: 0.0079 - val_loss: 0.0094 - val_mae: 0.0680 - val_mse: 0.0094\n",
      "Epoch 3/50\n",
      "29/29 - 0s - loss: 0.0057 - mae: 0.0523 - mse: 0.0057 - val_loss: 0.0067 - val_mae: 0.0553 - val_mse: 0.0067\n",
      "Epoch 4/50\n",
      "29/29 - 0s - loss: 0.0048 - mae: 0.0477 - mse: 0.0048 - val_loss: 0.0061 - val_mae: 0.0530 - val_mse: 0.0061\n",
      "Epoch 5/50\n",
      "29/29 - 0s - loss: 0.0037 - mae: 0.0422 - mse: 0.0037 - val_loss: 0.0069 - val_mae: 0.0527 - val_mse: 0.0069\n",
      "Epoch 6/50\n",
      "29/29 - 0s - loss: 0.0038 - mae: 0.0424 - mse: 0.0038 - val_loss: 0.0055 - val_mae: 0.0440 - val_mse: 0.0055\n",
      "Epoch 7/50\n",
      "29/29 - 0s - loss: 0.0032 - mae: 0.0391 - mse: 0.0032 - val_loss: 0.0052 - val_mae: 0.0443 - val_mse: 0.0052\n",
      "Epoch 8/50\n",
      "29/29 - 0s - loss: 0.0031 - mae: 0.0386 - mse: 0.0031 - val_loss: 0.0055 - val_mae: 0.0470 - val_mse: 0.0055\n",
      "Epoch 9/50\n",
      "29/29 - 0s - loss: 0.0028 - mae: 0.0374 - mse: 0.0028 - val_loss: 0.0046 - val_mae: 0.0434 - val_mse: 0.0046\n",
      "Epoch 10/50\n",
      "29/29 - 0s - loss: 0.0025 - mae: 0.0346 - mse: 0.0025 - val_loss: 0.0054 - val_mae: 0.0512 - val_mse: 0.0054\n",
      "Epoch 11/50\n",
      "29/29 - 0s - loss: 0.0023 - mae: 0.0329 - mse: 0.0023 - val_loss: 0.0054 - val_mae: 0.0542 - val_mse: 0.0054\n",
      "Epoch 12/50\n",
      "29/29 - 0s - loss: 0.0028 - mae: 0.0361 - mse: 0.0028 - val_loss: 0.0038 - val_mae: 0.0372 - val_mse: 0.0038\n",
      "Epoch 13/50\n",
      "29/29 - 0s - loss: 0.0022 - mae: 0.0326 - mse: 0.0022 - val_loss: 0.0059 - val_mae: 0.0504 - val_mse: 0.0059\n",
      "Epoch 14/50\n",
      "29/29 - 0s - loss: 0.0022 - mae: 0.0336 - mse: 0.0022 - val_loss: 0.0047 - val_mae: 0.0464 - val_mse: 0.0047\n",
      "Epoch 15/50\n",
      "29/29 - 0s - loss: 0.0021 - mae: 0.0333 - mse: 0.0021 - val_loss: 0.0063 - val_mae: 0.0521 - val_mse: 0.0063\n",
      "Epoch 16/50\n",
      "29/29 - 0s - loss: 0.0020 - mae: 0.0320 - mse: 0.0020 - val_loss: 0.0051 - val_mae: 0.0466 - val_mse: 0.0051\n",
      "Epoch 17/50\n",
      "29/29 - 0s - loss: 0.0020 - mae: 0.0320 - mse: 0.0020 - val_loss: 0.0030 - val_mae: 0.0338 - val_mse: 0.0030\n",
      "Epoch 18/50\n",
      "29/29 - 0s - loss: 0.0017 - mae: 0.0287 - mse: 0.0017 - val_loss: 0.0045 - val_mae: 0.0481 - val_mse: 0.0045\n",
      "Epoch 19/50\n",
      "29/29 - 0s - loss: 0.0018 - mae: 0.0297 - mse: 0.0018 - val_loss: 0.0034 - val_mae: 0.0409 - val_mse: 0.0034\n",
      "Epoch 20/50\n",
      "29/29 - 0s - loss: 0.0019 - mae: 0.0300 - mse: 0.0019 - val_loss: 0.0029 - val_mae: 0.0322 - val_mse: 0.0029\n",
      "Epoch 21/50\n",
      "29/29 - 0s - loss: 0.0018 - mae: 0.0297 - mse: 0.0018 - val_loss: 0.0034 - val_mae: 0.0382 - val_mse: 0.0034\n",
      "Epoch 22/50\n",
      "29/29 - 0s - loss: 0.0016 - mae: 0.0287 - mse: 0.0016 - val_loss: 0.0027 - val_mae: 0.0324 - val_mse: 0.0027\n",
      "Epoch 23/50\n",
      "29/29 - 0s - loss: 0.0018 - mae: 0.0296 - mse: 0.0018 - val_loss: 0.0035 - val_mae: 0.0379 - val_mse: 0.0035\n",
      "Epoch 24/50\n",
      "29/29 - 0s - loss: 0.0015 - mae: 0.0275 - mse: 0.0015 - val_loss: 0.0028 - val_mae: 0.0317 - val_mse: 0.0028\n",
      "Epoch 25/50\n",
      "29/29 - 0s - loss: 0.0015 - mae: 0.0271 - mse: 0.0015 - val_loss: 0.0034 - val_mae: 0.0369 - val_mse: 0.0034\n",
      "Epoch 26/50\n",
      "29/29 - 0s - loss: 0.0015 - mae: 0.0273 - mse: 0.0015 - val_loss: 0.0023 - val_mae: 0.0274 - val_mse: 0.0023\n",
      "Epoch 27/50\n",
      "29/29 - 0s - loss: 0.0014 - mae: 0.0266 - mse: 0.0014 - val_loss: 0.0028 - val_mae: 0.0392 - val_mse: 0.0028\n",
      "Epoch 28/50\n",
      "29/29 - 0s - loss: 0.0015 - mae: 0.0277 - mse: 0.0015 - val_loss: 0.0026 - val_mae: 0.0348 - val_mse: 0.0026\n",
      "Epoch 29/50\n",
      "29/29 - 0s - loss: 0.0013 - mae: 0.0257 - mse: 0.0013 - val_loss: 0.0024 - val_mae: 0.0293 - val_mse: 0.0024\n",
      "Epoch 30/50\n",
      "29/29 - 0s - loss: 0.0013 - mae: 0.0252 - mse: 0.0013 - val_loss: 0.0034 - val_mae: 0.0422 - val_mse: 0.0034\n",
      "Epoch 31/50\n",
      "29/29 - 0s - loss: 0.0014 - mae: 0.0258 - mse: 0.0014 - val_loss: 0.0025 - val_mae: 0.0293 - val_mse: 0.0025\n",
      "Epoch 32/50\n",
      "29/29 - 0s - loss: 0.0013 - mae: 0.0262 - mse: 0.0013 - val_loss: 0.0022 - val_mae: 0.0277 - val_mse: 0.0022\n",
      "Epoch 33/50\n",
      "29/29 - 0s - loss: 0.0014 - mae: 0.0252 - mse: 0.0014 - val_loss: 0.0022 - val_mae: 0.0276 - val_mse: 0.0022\n",
      "Epoch 34/50\n",
      "29/29 - 0s - loss: 0.0012 - mae: 0.0248 - mse: 0.0012 - val_loss: 0.0026 - val_mae: 0.0380 - val_mse: 0.0026\n",
      "Epoch 35/50\n",
      "29/29 - 0s - loss: 0.0013 - mae: 0.0254 - mse: 0.0013 - val_loss: 0.0021 - val_mae: 0.0276 - val_mse: 0.0021\n",
      "Epoch 36/50\n",
      "29/29 - 0s - loss: 0.0012 - mae: 0.0238 - mse: 0.0012 - val_loss: 0.0022 - val_mae: 0.0300 - val_mse: 0.0022\n",
      "Epoch 37/50\n",
      "29/29 - 0s - loss: 0.0012 - mae: 0.0233 - mse: 0.0012 - val_loss: 0.0025 - val_mae: 0.0324 - val_mse: 0.0025\n",
      "Epoch 38/50\n",
      "29/29 - 0s - loss: 0.0012 - mae: 0.0247 - mse: 0.0012 - val_loss: 0.0030 - val_mae: 0.0338 - val_mse: 0.0030\n",
      "Epoch 39/50\n",
      "29/29 - 0s - loss: 0.0011 - mae: 0.0233 - mse: 0.0011 - val_loss: 0.0023 - val_mae: 0.0299 - val_mse: 0.0023\n",
      "Epoch 40/50\n",
      "29/29 - 0s - loss: 0.0012 - mae: 0.0242 - mse: 0.0012 - val_loss: 0.0026 - val_mae: 0.0317 - val_mse: 0.0026\n",
      "Epoch 41/50\n",
      "29/29 - 0s - loss: 0.0012 - mae: 0.0239 - mse: 0.0012 - val_loss: 0.0021 - val_mae: 0.0304 - val_mse: 0.0021\n",
      "Epoch 42/50\n",
      "29/29 - 0s - loss: 0.0011 - mae: 0.0234 - mse: 0.0011 - val_loss: 0.0018 - val_mae: 0.0256 - val_mse: 0.0018\n",
      "Epoch 43/50\n",
      "29/29 - 0s - loss: 0.0011 - mae: 0.0229 - mse: 0.0011 - val_loss: 0.0023 - val_mae: 0.0324 - val_mse: 0.0023\n",
      "Epoch 44/50\n",
      "29/29 - 0s - loss: 0.0010 - mae: 0.0226 - mse: 0.0010 - val_loss: 0.0031 - val_mae: 0.0371 - val_mse: 0.0031\n",
      "Epoch 45/50\n",
      "29/29 - 0s - loss: 0.0011 - mae: 0.0223 - mse: 0.0011 - val_loss: 0.0017 - val_mae: 0.0282 - val_mse: 0.0017\n",
      "Epoch 46/50\n",
      "29/29 - 0s - loss: 0.0011 - mae: 0.0226 - mse: 0.0011 - val_loss: 0.0024 - val_mae: 0.0342 - val_mse: 0.0024\n",
      "Epoch 47/50\n",
      "29/29 - 0s - loss: 9.8091e-04 - mae: 0.0215 - mse: 9.8091e-04 - val_loss: 0.0022 - val_mae: 0.0333 - val_mse: 0.0022\n",
      "Epoch 48/50\n",
      "29/29 - 0s - loss: 9.8045e-04 - mae: 0.0215 - mse: 9.8045e-04 - val_loss: 0.0016 - val_mae: 0.0252 - val_mse: 0.0016\n",
      "Epoch 49/50\n",
      "29/29 - 0s - loss: 0.0010 - mae: 0.0223 - mse: 0.0010 - val_loss: 0.0018 - val_mae: 0.0284 - val_mse: 0.0018\n",
      "Epoch 50/50\n",
      "29/29 - 0s - loss: 0.0011 - mae: 0.0227 - mse: 0.0011 - val_loss: 0.0015 - val_mae: 0.0240 - val_mse: 0.0015\n"
     ]
    },
    {
     "name": "stderr",
     "output_type": "stream",
     "text": [
      "Using 1005 background data samples could cause slower run times. Consider using shap.sample(data, K) or shap.kmeans(data, K) to summarize the background as K samples.\n"
     ]
    }
   ],
   "source": [
    "#model\n",
    "def build_model():\n",
    "  model = keras.Sequential([\n",
    "    layers.Dense(64, activation='relu', input_shape=[len(x_train.keys())]),\n",
    "    layers.Dense(64, activation='relu'),\n",
    "    layers.Dense(32, activation='relu'),\n",
    "    layers.Dense(len(y_train.keys()))\n",
    "  ])\n",
    "  optimizer = tf.keras.optimizers.RMSprop(0.001)\n",
    "  model.compile(loss='mse',\n",
    "                optimizer=optimizer,\n",
    "                metrics=['mae', 'mse',])\n",
    "  return model\n",
    "\n",
    "#create a model instance\n",
    "model = build_model()\n",
    "\n",
    "history = model.fit(\n",
    "  x_train, y_train,\n",
    "  epochs=50, validation_split = 0.1, verbose=2 #just 10% for validation to use most of the data on training\n",
    "  )\n",
    "explainer = shap.KernelExplainer(model.predict,x_train)\n",
    "#explainer = shap.TreeExplainer(model)\n"
   ]
  },
  {
   "cell_type": "code",
   "execution_count": 4,
   "id": "8bb37670",
   "metadata": {},
   "outputs": [
    {
     "data": {
      "application/vnd.jupyter.widget-view+json": {
       "model_id": "d80a3a0cba694947b2fab3c868cd1725",
       "version_major": 2,
       "version_minor": 0
      },
      "text/plain": [
       "  0%|          | 0/495 [00:00<?, ?it/s]"
      ]
     },
     "metadata": {},
     "output_type": "display_data"
    }
   ],
   "source": [
    "shap_values = explainer.shap_values(x_test,nsamples=200)"
   ]
  },
  {
   "cell_type": "code",
   "execution_count": 5,
   "id": "ae678463",
   "metadata": {},
   "outputs": [
    {
     "data": {
      "image/png": "[encoded data removed]",
      "text/plain": [
       "<Figure size 576x338.4 with 1 Axes>"
      ]
     },
     "metadata": {
      "needs_background": "light"
     },
     "output_type": "display_data"
    }
   ],
   "source": [
    "shap.summary_plot(shap_values,x_test,feature_names=features, class_names = targets)"
   ]
  },
  {
   "cell_type": "code",
   "execution_count": null,
   "id": "df945e6b",
   "metadata": {},
   "outputs": [],
   "source": []
  }
 ],
 "metadata": {
  "kernelspec": {
   "display_name": "Python 3 (ipykernel)",
   "language": "python",
   "name": "python3"
  },
  "language_info": {
   "codemirror_mode": {
    "name": "ipython",
    "version": 3
   },
   "file_extension": ".py",
   "mimetype": "text/x-python",
   "name": "python",
   "nbconvert_exporter": "python",
   "pygments_lexer": "ipython3",
   "version": "3.8.12"
  }
 },
 "nbformat": 4,
 "nbformat_minor": 5
}
